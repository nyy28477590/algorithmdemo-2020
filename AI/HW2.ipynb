{
 "cells": [
  {
   "cell_type": "markdown",
   "metadata": {},
   "source": [
    "# HW2 Regression"
   ]
  },
  {
   "cell_type": "markdown",
   "metadata": {},
   "source": [
    "#### X and Y are given by professor"
   ]
  },
  {
   "cell_type": "code",
   "execution_count": 1,
   "metadata": {},
   "outputs": [],
   "source": [
    "x = [0.1, 0.2, 0.3, 0.4, 0.5, 0.6, 0.7, 0.8]\n",
    "y = [0.002, 0.015, 0.02, 0.08, 0.2, 0.35, 0.75, 1]"
   ]
  },
  {
   "cell_type": "markdown",
   "metadata": {},
   "source": [
    "Nonlinear regression function $$y=\\alpha x^{\\beta}$$"
   ]
  },
  {
   "cell_type": "markdown",
   "metadata": {},
   "source": [
    "Take the $log$ of nonlinear regression function \n",
    "$$\\log y=\\log \\alpha+\\beta \\log x$$\n",
    "Let $x\\prime$ denote $\\log x$, $y\\prime$ denote $\\log y$\n",
    "$$y\\prime=\\log \\alpha + \\beta x\\prime$$\n",
    "Let $a$ denote log$\\alpha$\n",
    "$$y\\prime = a+bx \\prime$$\n",
    "So we transfer the non-linear regression function to a simple linear regression function."
   ]
  },
  {
   "cell_type": "markdown",
   "metadata": {},
   "source": [
    "Here are the transformations\n",
    "$$\\log y => y\\prime$$\n",
    "$$\\log x => x\\prime$$\n",
    "$$\\alpha => \\log a$$\n",
    "$$\\beta => b$$"
   ]
  },
  {
   "cell_type": "markdown",
   "metadata": {},
   "source": [
    "Thus, in the new function, we use y'(logy) and x'(logx) instead of y and x. After the calculation, we can get the a and b, then, we transfer the a, b to alpha and beta to get the accurate value for our nonlinear regression. "
   ]
  },
  {
   "cell_type": "code",
   "execution_count": 2,
   "metadata": {},
   "outputs": [],
   "source": [
    "import math\n",
    "import matplotlib.pyplot as plt\n",
    "from typing import List\n",
    "\n",
    "Vector = List[float]"
   ]
  },
  {
   "cell_type": "code",
   "execution_count": 3,
   "metadata": {},
   "outputs": [],
   "source": [
    "def simpleRegression(x: Vector, y: Vector):\n",
    "    \"\"\"Obtain the alpha and beta\"\"\"\n",
    "    \n",
    "    def mean(xs: Vector) -> float:\n",
    "        \"\"\"Calculate the average\"\"\"\n",
    "        return sum(xs)/len(xs)\n",
    "\n",
    "    def de_mean(xs: Vector) -> Vector:\n",
    "        \"\"\"Calculate the difference between x and the average of xs\"\"\"\n",
    "        Mx = mean(xs)\n",
    "        return [x - Mx for x in xs]\n",
    "\n",
    "    def vector_multi(xs: Vector, ys: Vector) -> Vector:\n",
    "        \"\"\"Multiply corresponding elements\"\"\"\n",
    "        assert len(xs) == len(ys), 'vectors must be the same length'\n",
    "\n",
    "        return [xs_i * ys_i for xs_i, ys_i in zip(xs, ys)]\n",
    "\n",
    "    def getLog(xs: Vector) -> Vector:\n",
    "        \"\"\"Take log of the elements with a base of 10\"\"\"\n",
    "        return [math.log(x, 10) for x in xs]\n",
    "    \n",
    "    logX = getLog(x)\n",
    "    logY = getLog(y)\n",
    "    \n",
    "    \n",
    "    b = (sum(vector_multi(de_mean(logX),de_mean(logY)))) / (sum(vector_multi(de_mean(logX), de_mean(logX))))\n",
    "    a = mean(logY) - b * mean(logX)\n",
    "    beta = b\n",
    "    alpha = 10 ** a\n",
    "    \n",
    "    return alpha, beta"
   ]
  },
  {
   "cell_type": "code",
   "execution_count": 4,
   "metadata": {},
   "outputs": [
    {
     "name": "stdout",
     "output_type": "stream",
     "text": [
      "alpha= 1.629422276430365\n",
      "beta= 3.0328268960283373\n"
     ]
    }
   ],
   "source": [
    "alpha, beta = simpleRegression(x, y)\n",
    "print(\"alpha=\", alpha)\n",
    "print(\"beta=\", beta)"
   ]
  },
  {
   "cell_type": "code",
   "execution_count": 5,
   "metadata": {},
   "outputs": [],
   "source": [
    "def drawGraph(alpha: float, beta: float):\n",
    "    \"\"\"Draw a graph\"\"\"\n",
    "    def graphFunc(X: float, alpha: float, beta: float) -> float:\n",
    "        \"\"\"Our designated regression function = alpha * x^beta\"\"\"\n",
    "        return alpha * (X ** beta)\n",
    "    \n",
    "    xs = [x / 10.0 for x in range(10)]\n",
    "    plt.plot(x, y, 'bo', label = \"Source data\")\n",
    "    plt.plot(xs, [graphFunc(x, alpha, beta) for x in xs], 'r-', \n",
    "             label='Regression: alpha:%5.3f, beta:%5.3f' % simpleRegression(x, y))\n",
    "    plt.legend()\n",
    "    plt.xlabel('x')\n",
    "    plt.ylabel('y')\n",
    "    plt.show()"
   ]
  },
  {
   "cell_type": "code",
   "execution_count": 6,
   "metadata": {},
   "outputs": [
    {
     "data": {
      "image/png": "[encoded data removed]",
      "text/plain": [
       "<Figure size 432x288 with 1 Axes>"
      ]
     },
     "metadata": {
      "needs_background": "light"
     },
     "output_type": "display_data"
    }
   ],
   "source": [
    "alpha, beta = simpleRegression(x,y)\n",
    "drawGraph(alpha, beta)"
   ]
  },
  {
   "cell_type": "code",
   "execution_count": null,
   "metadata": {},
   "outputs": [],
   "source": []
  }
 ],
 "metadata": {
  "kernelspec": {
   "display_name": "Python 3",
   "language": "python",
   "name": "python3"
  },
  "language_info": {
   "codemirror_mode": {
    "name": "ipython",
    "version": 3
   },
   "file_extension": ".py",
   "mimetype": "text/x-python",
   "name": "python",
   "nbconvert_exporter": "python",
   "pygments_lexer": "ipython3",
   "version": "3.8.3"
  }
 },
 "nbformat": 4,
 "nbformat_minor": 4
}
